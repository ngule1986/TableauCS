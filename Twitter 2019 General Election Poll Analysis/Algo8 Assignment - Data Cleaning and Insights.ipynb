{
 "cells": [
  {
   "cell_type": "markdown",
   "metadata": {},
   "source": [
    "### `ENVIRONMENT SETUP`"
   ]
  },
  {
   "cell_type": "code",
   "execution_count": 1,
   "metadata": {},
   "outputs": [],
   "source": [
    "import os\n",
    "import pandas as pd\n",
    "import numpy as np\n",
    "import re\n",
    "import matplotlib.pyplot  as plt\n",
    "import seaborn as sns\n",
    "\n",
    "%matplotlib inline"
   ]
  },
  {
   "cell_type": "markdown",
   "metadata": {},
   "source": [
    "### `READING EXCEL FILE`"
   ]
  },
  {
   "cell_type": "code",
   "execution_count": 2,
   "metadata": {},
   "outputs": [
    {
     "data": {
      "text/plain": [
       "'G:\\\\Algo8 Assignment'"
      ]
     },
     "execution_count": 2,
     "metadata": {},
     "output_type": "execute_result"
    }
   ],
   "source": [
    "# Changing working directory\n",
    "filepath = \"G:\\\\Algo8 Assignment\\\\\" \n",
    "os.chdir(filepath)\n",
    "\n",
    "%pwd"
   ]
  },
  {
   "cell_type": "code",
   "execution_count": 3,
   "metadata": {},
   "outputs": [],
   "source": [
    "# Reading excel file\n",
    "df = pd.read_excel(\"polling day data.xlsx\", parse_dates=['Date'])\n",
    "df['SlNo'] = np.arange(1, len(df) + 1, 1)"
   ]
  },
  {
   "cell_type": "code",
   "execution_count": 4,
   "metadata": {},
   "outputs": [],
   "source": [
    "# New features from Date feature\n",
    "df['Weekday'] = df.Date.dt.strftime(\"%A\")\n",
    "df['Hour'] = df.Date.dt.hour"
   ]
  },
  {
   "cell_type": "code",
   "execution_count": 5,
   "metadata": {},
   "outputs": [],
   "source": [
    "# Renaming features with space in name\n",
    "df.rename(columns={'Compound Score':'Compound_Score', 'RT Flag': 'RT_Flag'}, inplace=True)"
   ]
  },
  {
   "cell_type": "markdown",
   "metadata": {},
   "source": [
    "### `CHECKING DATAFRAME STRUCTURE`"
   ]
  },
  {
   "cell_type": "code",
   "execution_count": 6,
   "metadata": {},
   "outputs": [
    {
     "data": {
      "text/html": [
       "<div>\n",
       "<style scoped>\n",
       "    .dataframe tbody tr th:only-of-type {\n",
       "        vertical-align: middle;\n",
       "    }\n",
       "\n",
       "    .dataframe tbody tr th {\n",
       "        vertical-align: top;\n",
       "    }\n",
       "\n",
       "    .dataframe thead th {\n",
       "        text-align: right;\n",
       "    }\n",
       "</style>\n",
       "<table border=\"1\" class=\"dataframe\">\n",
       "  <thead>\n",
       "    <tr style=\"text-align: right;\">\n",
       "      <th></th>\n",
       "      <th>Date</th>\n",
       "      <th>Userlocation</th>\n",
       "      <th>Username</th>\n",
       "      <th>Verified</th>\n",
       "      <th>Likes</th>\n",
       "      <th>followers</th>\n",
       "      <th>friends</th>\n",
       "      <th>id</th>\n",
       "      <th>language</th>\n",
       "      <th>retweet_count</th>\n",
       "      <th>...</th>\n",
       "      <th>Sentiment</th>\n",
       "      <th>Compound_Score</th>\n",
       "      <th>Issue</th>\n",
       "      <th>RT_Flag</th>\n",
       "      <th>Engagements</th>\n",
       "      <th>Influencers</th>\n",
       "      <th>Comment</th>\n",
       "      <th>SlNo</th>\n",
       "      <th>Weekday</th>\n",
       "      <th>Hour</th>\n",
       "    </tr>\n",
       "  </thead>\n",
       "  <tbody>\n",
       "    <tr>\n",
       "      <th>0</th>\n",
       "      <td>2019-05-18 23:10:37</td>\n",
       "      <td>NaN</td>\n",
       "      <td>AshishP57673790</td>\n",
       "      <td>False</td>\n",
       "      <td>0</td>\n",
       "      <td>124</td>\n",
       "      <td>942</td>\n",
       "      <td>1129887041787817984</td>\n",
       "      <td>en</td>\n",
       "      <td>12</td>\n",
       "      <td>...</td>\n",
       "      <td>negative</td>\n",
       "      <td>-0.1263</td>\n",
       "      <td>#TimesNowExitPoll</td>\n",
       "      <td>Retweet</td>\n",
       "      <td>0</td>\n",
       "      <td>@TimesNow</td>\n",
       "      <td>No</td>\n",
       "      <td>1</td>\n",
       "      <td>Saturday</td>\n",
       "      <td>23</td>\n",
       "    </tr>\n",
       "    <tr>\n",
       "      <th>1</th>\n",
       "      <td>2019-05-18 19:48:40</td>\n",
       "      <td>Mumbai</td>\n",
       "      <td>mohitsmartlove</td>\n",
       "      <td>False</td>\n",
       "      <td>0</td>\n",
       "      <td>1002</td>\n",
       "      <td>59</td>\n",
       "      <td>1129836217003064960</td>\n",
       "      <td>en</td>\n",
       "      <td>12</td>\n",
       "      <td>...</td>\n",
       "      <td>negative</td>\n",
       "      <td>-0.1263</td>\n",
       "      <td>#TimesNowExitPoll</td>\n",
       "      <td>Retweet</td>\n",
       "      <td>0</td>\n",
       "      <td>@TimesNow</td>\n",
       "      <td>No</td>\n",
       "      <td>2</td>\n",
       "      <td>Saturday</td>\n",
       "      <td>19</td>\n",
       "    </tr>\n",
       "    <tr>\n",
       "      <th>2</th>\n",
       "      <td>2019-05-18 19:26:11</td>\n",
       "      <td>NaN</td>\n",
       "      <td>Vineeth_aj21</td>\n",
       "      <td>False</td>\n",
       "      <td>0</td>\n",
       "      <td>70</td>\n",
       "      <td>177</td>\n",
       "      <td>1129830560686268032</td>\n",
       "      <td>en</td>\n",
       "      <td>23</td>\n",
       "      <td>...</td>\n",
       "      <td>positive</td>\n",
       "      <td>0.3182</td>\n",
       "      <td>#TimesNowExitPoll</td>\n",
       "      <td>Retweet</td>\n",
       "      <td>0</td>\n",
       "      <td>@TimesNow</td>\n",
       "      <td>No</td>\n",
       "      <td>3</td>\n",
       "      <td>Saturday</td>\n",
       "      <td>19</td>\n",
       "    </tr>\n",
       "    <tr>\n",
       "      <th>3</th>\n",
       "      <td>2019-05-18 19:26:08</td>\n",
       "      <td>India</td>\n",
       "      <td>LalPatrakar</td>\n",
       "      <td>False</td>\n",
       "      <td>1</td>\n",
       "      <td>41</td>\n",
       "      <td>172</td>\n",
       "      <td>1129830546933264000</td>\n",
       "      <td>en</td>\n",
       "      <td>1</td>\n",
       "      <td>...</td>\n",
       "      <td>neutral</td>\n",
       "      <td>0.0000</td>\n",
       "      <td>#TimesNowExitPoll</td>\n",
       "      <td>Original</td>\n",
       "      <td>2</td>\n",
       "      <td>Original</td>\n",
       "      <td>No</td>\n",
       "      <td>4</td>\n",
       "      <td>Saturday</td>\n",
       "      <td>19</td>\n",
       "    </tr>\n",
       "    <tr>\n",
       "      <th>4</th>\n",
       "      <td>2019-05-18 18:25:04</td>\n",
       "      <td>Pune, Maharashtra</td>\n",
       "      <td>ShefVaidya</td>\n",
       "      <td>True</td>\n",
       "      <td>0</td>\n",
       "      <td>359774</td>\n",
       "      <td>1748</td>\n",
       "      <td>1129815181960179968</td>\n",
       "      <td>en</td>\n",
       "      <td>12</td>\n",
       "      <td>...</td>\n",
       "      <td>negative</td>\n",
       "      <td>-0.1263</td>\n",
       "      <td>#TimesNowExitPoll</td>\n",
       "      <td>Retweet</td>\n",
       "      <td>0</td>\n",
       "      <td>@TimesNow</td>\n",
       "      <td>No</td>\n",
       "      <td>5</td>\n",
       "      <td>Saturday</td>\n",
       "      <td>18</td>\n",
       "    </tr>\n",
       "  </tbody>\n",
       "</table>\n",
       "<p>5 rows × 23 columns</p>\n",
       "</div>"
      ],
      "text/plain": [
       "                 Date       Userlocation         Username  Verified  Likes  \\\n",
       "0 2019-05-18 23:10:37                NaN  AshishP57673790     False      0   \n",
       "1 2019-05-18 19:48:40             Mumbai   mohitsmartlove     False      0   \n",
       "2 2019-05-18 19:26:11                NaN     Vineeth_aj21     False      0   \n",
       "3 2019-05-18 19:26:08              India      LalPatrakar     False      1   \n",
       "4 2019-05-18 18:25:04  Pune, Maharashtra       ShefVaidya      True      0   \n",
       "\n",
       "   followers  friends                   id language  retweet_count  ...  \\\n",
       "0        124      942  1129887041787817984       en             12  ...   \n",
       "1       1002       59  1129836217003064960       en             12  ...   \n",
       "2         70      177  1129830560686268032       en             23  ...   \n",
       "3         41      172  1129830546933264000       en              1  ...   \n",
       "4     359774     1748  1129815181960179968       en             12  ...   \n",
       "\n",
       "  Sentiment Compound_Score              Issue   RT_Flag  Engagements  \\\n",
       "0  negative        -0.1263  #TimesNowExitPoll   Retweet            0   \n",
       "1  negative        -0.1263  #TimesNowExitPoll   Retweet            0   \n",
       "2  positive         0.3182  #TimesNowExitPoll   Retweet            0   \n",
       "3   neutral         0.0000  #TimesNowExitPoll  Original            2   \n",
       "4  negative        -0.1263  #TimesNowExitPoll   Retweet            0   \n",
       "\n",
       "  Influencers Comment  SlNo   Weekday Hour  \n",
       "0   @TimesNow      No     1  Saturday   23  \n",
       "1   @TimesNow      No     2  Saturday   19  \n",
       "2   @TimesNow      No     3  Saturday   19  \n",
       "3    Original      No     4  Saturday   19  \n",
       "4   @TimesNow      No     5  Saturday   18  \n",
       "\n",
       "[5 rows x 23 columns]"
      ]
     },
     "execution_count": 6,
     "metadata": {},
     "output_type": "execute_result"
    }
   ],
   "source": [
    "# Top 4 rows from dataframe\n",
    "df.head()"
   ]
  },
  {
   "cell_type": "code",
   "execution_count": 7,
   "metadata": {},
   "outputs": [
    {
     "data": {
      "text/plain": [
       "(33985, 23)"
      ]
     },
     "execution_count": 7,
     "metadata": {},
     "output_type": "execute_result"
    }
   ],
   "source": [
    "# Shape of dataframe\n",
    "df.shape"
   ]
  },
  {
   "cell_type": "code",
   "execution_count": 8,
   "metadata": {},
   "outputs": [
    {
     "data": {
      "text/plain": [
       "Date              datetime64[ns]\n",
       "Userlocation              object\n",
       "Username                  object\n",
       "Verified                    bool\n",
       "Likes                      int64\n",
       "followers                  int64\n",
       "friends                    int64\n",
       "id                         int64\n",
       "language                  object\n",
       "retweet_count              int64\n",
       "text                      object\n",
       "Hashtags                  object\n",
       "User_Mentions             object\n",
       "Sentiment                 object\n",
       "Compound_Score           float64\n",
       "Issue                     object\n",
       "RT_Flag                   object\n",
       "Engagements                int64\n",
       "Influencers               object\n",
       "Comment                   object\n",
       "SlNo                       int32\n",
       "Weekday                   object\n",
       "Hour                       int64\n",
       "dtype: object"
      ]
     },
     "execution_count": 8,
     "metadata": {},
     "output_type": "execute_result"
    }
   ],
   "source": [
    "# Data Types\n",
    "df.dtypes"
   ]
  },
  {
   "cell_type": "code",
   "execution_count": 9,
   "metadata": {},
   "outputs": [
    {
     "data": {
      "text/plain": [
       "Date               0.00\n",
       "Userlocation      26.09\n",
       "Username           0.00\n",
       "Verified           0.00\n",
       "Likes              0.00\n",
       "followers          0.00\n",
       "friends            0.00\n",
       "id                 0.00\n",
       "language           0.00\n",
       "retweet_count      0.00\n",
       "text               0.00\n",
       "Hashtags           0.00\n",
       "User_Mentions     20.60\n",
       "Sentiment          0.00\n",
       "Compound_Score     0.00\n",
       "Issue              0.00\n",
       "RT_Flag            0.00\n",
       "Engagements        0.00\n",
       "Influencers        0.00\n",
       "Comment            0.00\n",
       "SlNo               0.00\n",
       "Weekday            0.00\n",
       "Hour               0.00\n",
       "dtype: float64"
      ]
     },
     "execution_count": 9,
     "metadata": {},
     "output_type": "execute_result"
    }
   ],
   "source": [
    "# Checking nulls / missing values in data\n",
    "np.round(df.isnull().sum()/len(df)*100,2)"
   ]
  },
  {
   "cell_type": "code",
   "execution_count": 10,
   "metadata": {},
   "outputs": [],
   "source": [
    "# Missing value treatment\n",
    "df.Userlocation.fillna('', inplace=True)\n",
    "df.User_Mentions.fillna('', inplace=True)"
   ]
  },
  {
   "cell_type": "code",
   "execution_count": 11,
   "metadata": {},
   "outputs": [
    {
     "name": "stdout",
     "output_type": "stream",
     "text": [
      "Date: 20341\n",
      "Userlocation: 3920\n",
      "Username: 15127\n",
      "Verified: 2\n",
      "Likes: 324\n",
      "followers: 2701\n",
      "friends: 2552\n",
      "id: 25647\n",
      "language: 1\n",
      "retweet_count: 185\n",
      "text: 9229\n",
      "Hashtags: 2294\n",
      "User_Mentions: 1964\n",
      "Sentiment: 3\n",
      "Compound_Score: 837\n",
      "Issue: 6\n",
      "RT_Flag: 3\n",
      "Engagements: 355\n",
      "Influencers: 851\n",
      "Comment: 2\n",
      "SlNo: 33985\n",
      "Weekday: 7\n",
      "Hour: 24\n"
     ]
    }
   ],
   "source": [
    "# No of unique values in features\n",
    "for x in df.columns.values:\n",
    "    print(f'{x}: {df[x].nunique()}')"
   ]
  },
  {
   "cell_type": "markdown",
   "metadata": {},
   "source": [
    "### `ADDING NEW FEATURES & REMOVING REDUNDANT FEATURES`"
   ]
  },
  {
   "cell_type": "code",
   "execution_count": 12,
   "metadata": {},
   "outputs": [],
   "source": [
    "# Dropping irrelevant columns\n",
    "df.drop(['language', 'Verified', 'Comment', 'id'], axis=1,inplace=True)"
   ]
  },
  {
   "cell_type": "code",
   "execution_count": 13,
   "metadata": {},
   "outputs": [],
   "source": [
    "# Replacing special characters in location feature\n",
    "df['Userlocation'] = df.Userlocation.apply(lambda x: re.sub('[^a-zA-Z ]', '', x))\n",
    "\n",
    "# Checking if data is valid  and does not contain only special chcracters like , / \"\n",
    "df['valid_location'] = df.Userlocation.str.contains(pat = '[a-zA-Z]',case=False)\n",
    "\n",
    "# Replacing invalid data with ''\n",
    "df.loc[df.valid_location == False, 'Userlocation'] = ''"
   ]
  },
  {
   "cell_type": "code",
   "execution_count": 14,
   "metadata": {},
   "outputs": [],
   "source": [
    "# Getting all User_Mentions as a single list\n",
    "user_mention = []\n",
    "for x in df.User_Mentions.str.split(','):\n",
    "    for y in x:\n",
    "        if y != '':\n",
    "            user_mention.append(y.strip())"
   ]
  },
  {
   "cell_type": "code",
   "execution_count": 15,
   "metadata": {},
   "outputs": [],
   "source": [
    "# Creating df for User_Mentions\n",
    "df_um = pd.DataFrame()\n",
    "df_um['slno'] = np.arange(1, len(user_mention) + 1, 1)\n",
    "df_um['user_mentions'] = user_mention"
   ]
  },
  {
   "cell_type": "code",
   "execution_count": 16,
   "metadata": {},
   "outputs": [
    {
     "data": {
      "text/html": [
       "<div>\n",
       "<style scoped>\n",
       "    .dataframe tbody tr th:only-of-type {\n",
       "        vertical-align: middle;\n",
       "    }\n",
       "\n",
       "    .dataframe tbody tr th {\n",
       "        vertical-align: top;\n",
       "    }\n",
       "\n",
       "    .dataframe thead th {\n",
       "        text-align: right;\n",
       "    }\n",
       "</style>\n",
       "<table border=\"1\" class=\"dataframe\">\n",
       "  <thead>\n",
       "    <tr style=\"text-align: right;\">\n",
       "      <th></th>\n",
       "      <th>Count</th>\n",
       "    </tr>\n",
       "    <tr>\n",
       "      <th>user_mentions</th>\n",
       "      <th></th>\n",
       "    </tr>\n",
       "  </thead>\n",
       "  <tbody>\n",
       "    <tr>\n",
       "      <th>IndiaToday</th>\n",
       "      <td>3256</td>\n",
       "    </tr>\n",
       "    <tr>\n",
       "      <th>republic</th>\n",
       "      <td>2817</td>\n",
       "    </tr>\n",
       "    <tr>\n",
       "      <th>TimesNow</th>\n",
       "      <td>2695</td>\n",
       "    </tr>\n",
       "    <tr>\n",
       "      <th>ShivAroor</th>\n",
       "      <td>2422</td>\n",
       "    </tr>\n",
       "    <tr>\n",
       "      <th>rahulkanwal</th>\n",
       "      <td>1704</td>\n",
       "    </tr>\n",
       "  </tbody>\n",
       "</table>\n",
       "</div>"
      ],
      "text/plain": [
       "               Count\n",
       "user_mentions       \n",
       "IndiaToday      3256\n",
       "republic        2817\n",
       "TimesNow        2695\n",
       "ShivAroor       2422\n",
       "rahulkanwal     1704"
      ]
     },
     "execution_count": 16,
     "metadata": {},
     "output_type": "execute_result"
    }
   ],
   "source": [
    "# Grouping user mention data to get top 10 User Mentions\n",
    "um = df_um.groupby('user_mentions').count()\n",
    "um.rename(columns={'slno': 'Count'}, inplace=True)\n",
    "um = um.sort_values(by = 'Count', ascending = False)\n",
    "um = um.head(10)\n",
    "um.head()"
   ]
  },
  {
   "cell_type": "code",
   "execution_count": 17,
   "metadata": {},
   "outputs": [],
   "source": [
    "# Getting all Hashtags as a single list\n",
    "hashtag = []\n",
    "for x in df.Hashtags.apply(lambda x: re.sub('[][]', '', x)):\n",
    "    for y in x.split(','):\n",
    "        if y != '':\n",
    "            hashtag.append(y.strip())"
   ]
  },
  {
   "cell_type": "code",
   "execution_count": 18,
   "metadata": {},
   "outputs": [],
   "source": [
    "# Creating df for Hashtags\n",
    "df_ht = pd.DataFrame()\n",
    "df_ht['slno'] = np.arange(1, len(hashtag) + 1, 1)\n",
    "df_ht['hashtags'] = hashtag"
   ]
  },
  {
   "cell_type": "code",
   "execution_count": 19,
   "metadata": {},
   "outputs": [
    {
     "data": {
      "text/html": [
       "<div>\n",
       "<style scoped>\n",
       "    .dataframe tbody tr th:only-of-type {\n",
       "        vertical-align: middle;\n",
       "    }\n",
       "\n",
       "    .dataframe tbody tr th {\n",
       "        vertical-align: top;\n",
       "    }\n",
       "\n",
       "    .dataframe thead th {\n",
       "        text-align: right;\n",
       "    }\n",
       "</style>\n",
       "<table border=\"1\" class=\"dataframe\">\n",
       "  <thead>\n",
       "    <tr style=\"text-align: right;\">\n",
       "      <th></th>\n",
       "      <th>Count</th>\n",
       "    </tr>\n",
       "    <tr>\n",
       "      <th>hashtags</th>\n",
       "      <th></th>\n",
       "    </tr>\n",
       "  </thead>\n",
       "  <tbody>\n",
       "    <tr>\n",
       "      <th>ExitPoll2019</th>\n",
       "      <td>11767</td>\n",
       "    </tr>\n",
       "    <tr>\n",
       "      <th>IndiaTodayAxisPoll</th>\n",
       "      <td>8583</td>\n",
       "    </tr>\n",
       "    <tr>\n",
       "      <th>RepublicExitPoll</th>\n",
       "      <td>7692</td>\n",
       "    </tr>\n",
       "    <tr>\n",
       "      <th>AajTakAxisExitPoll</th>\n",
       "      <td>6267</td>\n",
       "    </tr>\n",
       "    <tr>\n",
       "      <th>TimesNowExitPoll</th>\n",
       "      <td>3762</td>\n",
       "    </tr>\n",
       "  </tbody>\n",
       "</table>\n",
       "</div>"
      ],
      "text/plain": [
       "                    Count\n",
       "hashtags                 \n",
       "ExitPoll2019        11767\n",
       "IndiaTodayAxisPoll   8583\n",
       "RepublicExitPoll     7692\n",
       "AajTakAxisExitPoll   6267\n",
       "TimesNowExitPoll     3762"
      ]
     },
     "execution_count": 19,
     "metadata": {},
     "output_type": "execute_result"
    }
   ],
   "source": [
    "# Grouping hashtag data to get top 10 hashtags\n",
    "ht = df_ht.groupby('hashtags').count()\n",
    "ht.rename(columns={'slno': 'Count'}, inplace=True)\n",
    "ht = ht.sort_values(by = 'Count', ascending = False)\n",
    "ht = ht.head(10)\n",
    "ht.head()"
   ]
  },
  {
   "cell_type": "code",
   "execution_count": 20,
   "metadata": {},
   "outputs": [],
   "source": [
    "# dropping redundant features\n",
    "df.drop(['Hashtags', 'User_Mentions', 'valid_location'], axis=1, inplace=True)"
   ]
  },
  {
   "cell_type": "code",
   "execution_count": 21,
   "metadata": {},
   "outputs": [],
   "source": [
    "# Rearranging features of the dataframe\n",
    "df = df[['SlNo', 'Date', 'Weekday', 'Hour','text', 'Likes', 'retweet_count', 'RT_Flag','Compound_Score', 'Sentiment',\n",
    "         'Issue', 'Engagements', 'Influencers','Userlocation', 'Username', 'followers', 'friends']]"
   ]
  },
  {
   "cell_type": "markdown",
   "metadata": {},
   "source": [
    "### `INSIGHTS FROM DATA`"
   ]
  },
  {
   "cell_type": "code",
   "execution_count": 22,
   "metadata": {},
   "outputs": [
    {
     "data": {
      "image/png": "[encoded data removed]",
      "text/plain": [
       "<Figure size 1440x720 with 1 Axes>"
      ]
     },
     "metadata": {
      "needs_background": "light"
     },
     "output_type": "display_data"
    }
   ],
   "source": [
    "# Most popular Hashtag \n",
    "plt.figure(figsize = (20,10));\n",
    "plt.title('Most Popular Hashtags');\n",
    "sns.barplot(x = ht.index.values, y = ht.Count, color=\"C1\", saturation=.4);"
   ]
  },
  {
   "cell_type": "code",
   "execution_count": 23,
   "metadata": {},
   "outputs": [
    {
     "data": {
      "image/png": "[encoded data removed]",
      "text/plain": [
       "<Figure size 1440x720 with 1 Axes>"
      ]
     },
     "metadata": {
      "needs_background": "light"
     },
     "output_type": "display_data"
    }
   ],
   "source": [
    "# Most popular User Mentions \n",
    "plt.figure(figsize = (20,10));\n",
    "plt.title('Most Popular User Mentions');\n",
    "sns.barplot(x = um.index.values, y = um.Count,color=\"salmon\", saturation=.5);"
   ]
  },
  {
   "cell_type": "code",
   "execution_count": 24,
   "metadata": {},
   "outputs": [
    {
     "name": "stdout",
     "output_type": "stream",
     "text": [
      "                                                                  text  Likes         Username\n",
      " The #IndiaTodayAxisPoll final numbers:\\nNDA: 339-365\\nUPA: 77-108\\...   7615        ShivAroor\n",
      " The #IndiaTodayAxisPoll final numbers:\\nNDA: 339-365\\nUPA: 77-108\\...   7612        ShivAroor\n",
      " Arnab Goswami conducting Exit Polls debate with so many panelists ...   4032     Babu_Bhaiyaa\n",
      " Fully back @NitishKumar suggestion that elections should not be he...   3354      rahulkanwal\n",
      " To those asking why exit polls can’t go wrong in India if they did...   2567  sardesairajdeep\n",
      " #TimesNowExitPoll BREAKING | TIMES NOW-VMR 2019 Exit Poll National...   2498         TimesNow\n",
      " #NYAY failed to woo the poor voters who preferred the BJP+ this ti...   2133      rahulkanwal\n",
      " Bangalore South BJP candidate @Tejasvi_Surya speaks exclusively to...   2010       IndiaToday\n",
      " All set for the #ABPExitPoll2019 \\nJoin us for the best coverage, ...   1976   RubikaLiyaquat\n",
      " #Voting is in #Vogue\\n\\n#VoteKar #LokSabhaElections2019 \\n\\n#AajTa...   1938    manogyaloiwal\n"
     ]
    }
   ],
   "source": [
    "# Top 10 most liked tweets\n",
    "pd.options.display.max_colwidth = 70\n",
    "print(df.loc[df.Likes.sort_values(ascending=False).head(10).index.values, \n",
    "             ['text','Likes', 'Username']].to_string(index=False))"
   ]
  },
  {
   "cell_type": "code",
   "execution_count": 25,
   "metadata": {},
   "outputs": [
    {
     "name": "stdout",
     "output_type": "stream",
     "text": [
      "Username\n",
      "IndiaToday         23928\n",
      "republic           23683\n",
      "TimesNow           18746\n",
      "ShivAroor          15904\n",
      "ndtv               15660\n",
      "rahulkanwal         8970\n",
      "abpnewstv           8645\n",
      "sardesairajdeep     7791\n",
      "Babu_Bhaiyaa        4032\n",
      "manogyaloiwal       3876\n",
      "Name: Likes, dtype: int64\n"
     ]
    }
   ],
   "source": [
    "# Top 10 users with highest liked tweets\n",
    "print(df.groupby('Username').Likes.sum().sort_values(ascending=False).head(10))"
   ]
  },
  {
   "cell_type": "code",
   "execution_count": 26,
   "metadata": {},
   "outputs": [
    {
     "data": {
      "text/html": [
       "<div>\n",
       "<style scoped>\n",
       "    .dataframe tbody tr th:only-of-type {\n",
       "        vertical-align: middle;\n",
       "    }\n",
       "\n",
       "    .dataframe tbody tr th {\n",
       "        vertical-align: top;\n",
       "    }\n",
       "\n",
       "    .dataframe thead th {\n",
       "        text-align: right;\n",
       "    }\n",
       "</style>\n",
       "<table border=\"1\" class=\"dataframe\">\n",
       "  <thead>\n",
       "    <tr style=\"text-align: right;\">\n",
       "      <th></th>\n",
       "      <th>Tweet_Count</th>\n",
       "    </tr>\n",
       "    <tr>\n",
       "      <th>Username</th>\n",
       "      <th></th>\n",
       "    </tr>\n",
       "  </thead>\n",
       "  <tbody>\n",
       "    <tr>\n",
       "      <th>republic</th>\n",
       "      <td>41</td>\n",
       "    </tr>\n",
       "    <tr>\n",
       "      <th>TimesNow</th>\n",
       "      <td>28</td>\n",
       "    </tr>\n",
       "    <tr>\n",
       "      <th>IndiaToday</th>\n",
       "      <td>25</td>\n",
       "    </tr>\n",
       "    <tr>\n",
       "      <th>IndiaTodayFLASH</th>\n",
       "      <td>23</td>\n",
       "    </tr>\n",
       "    <tr>\n",
       "      <th>AnkitModi007</th>\n",
       "      <td>20</td>\n",
       "    </tr>\n",
       "    <tr>\n",
       "      <th>mohitsmartlove</th>\n",
       "      <td>20</td>\n",
       "    </tr>\n",
       "    <tr>\n",
       "      <th>rajendrashenoy</th>\n",
       "      <td>19</td>\n",
       "    </tr>\n",
       "    <tr>\n",
       "      <th>_LogicalIndian_</th>\n",
       "      <td>14</td>\n",
       "    </tr>\n",
       "    <tr>\n",
       "      <th>ndtv</th>\n",
       "      <td>13</td>\n",
       "    </tr>\n",
       "    <tr>\n",
       "      <th>_A_j_i_t</th>\n",
       "      <td>13</td>\n",
       "    </tr>\n",
       "  </tbody>\n",
       "</table>\n",
       "</div>"
      ],
      "text/plain": [
       "                 Tweet_Count\n",
       "Username                    \n",
       "republic                  41\n",
       "TimesNow                  28\n",
       "IndiaToday                25\n",
       "IndiaTodayFLASH           23\n",
       "AnkitModi007              20\n",
       "mohitsmartlove            20\n",
       "rajendrashenoy            19\n",
       "_LogicalIndian_           14\n",
       "ndtv                      13\n",
       "_A_j_i_t                  13"
      ]
     },
     "execution_count": 26,
     "metadata": {},
     "output_type": "execute_result"
    }
   ],
   "source": [
    "# Top 10 users with most negative sentiment tweets\n",
    "neg_senti = df.loc[df.Sentiment == 'negative', ['Username', 'Sentiment']]\n",
    "neg_senti.rename(columns = {'Sentiment': 'Tweet_Count'}, inplace=True)\n",
    "neg_senti.groupby('Username').count().sort_values(by= 'Tweet_Count', ascending=False).head(10)"
   ]
  },
  {
   "cell_type": "code",
   "execution_count": 27,
   "metadata": {},
   "outputs": [
    {
     "data": {
      "text/html": [
       "<div>\n",
       "<style scoped>\n",
       "    .dataframe tbody tr th:only-of-type {\n",
       "        vertical-align: middle;\n",
       "    }\n",
       "\n",
       "    .dataframe tbody tr th {\n",
       "        vertical-align: top;\n",
       "    }\n",
       "\n",
       "    .dataframe thead th {\n",
       "        text-align: right;\n",
       "    }\n",
       "</style>\n",
       "<table border=\"1\" class=\"dataframe\">\n",
       "  <thead>\n",
       "    <tr style=\"text-align: right;\">\n",
       "      <th></th>\n",
       "      <th>Tweet_Count</th>\n",
       "    </tr>\n",
       "    <tr>\n",
       "      <th>Username</th>\n",
       "      <th></th>\n",
       "    </tr>\n",
       "  </thead>\n",
       "  <tbody>\n",
       "    <tr>\n",
       "      <th>TimesNow</th>\n",
       "      <td>129</td>\n",
       "    </tr>\n",
       "    <tr>\n",
       "      <th>IndiaTodayFLASH</th>\n",
       "      <td>91</td>\n",
       "    </tr>\n",
       "    <tr>\n",
       "      <th>IndiaToday</th>\n",
       "      <td>86</td>\n",
       "    </tr>\n",
       "    <tr>\n",
       "      <th>ndtv</th>\n",
       "      <td>54</td>\n",
       "    </tr>\n",
       "    <tr>\n",
       "      <th>AnkitModi007</th>\n",
       "      <td>53</td>\n",
       "    </tr>\n",
       "    <tr>\n",
       "      <th>mohitsmartlove</th>\n",
       "      <td>48</td>\n",
       "    </tr>\n",
       "    <tr>\n",
       "      <th>republic</th>\n",
       "      <td>46</td>\n",
       "    </tr>\n",
       "    <tr>\n",
       "      <th>saleemsarangs</th>\n",
       "      <td>44</td>\n",
       "    </tr>\n",
       "    <tr>\n",
       "      <th>mishravivek03</th>\n",
       "      <td>38</td>\n",
       "    </tr>\n",
       "    <tr>\n",
       "      <th>NehaDivekar</th>\n",
       "      <td>37</td>\n",
       "    </tr>\n",
       "  </tbody>\n",
       "</table>\n",
       "</div>"
      ],
      "text/plain": [
       "                 Tweet_Count\n",
       "Username                    \n",
       "TimesNow                 129\n",
       "IndiaTodayFLASH           91\n",
       "IndiaToday                86\n",
       "ndtv                      54\n",
       "AnkitModi007              53\n",
       "mohitsmartlove            48\n",
       "republic                  46\n",
       "saleemsarangs             44\n",
       "mishravivek03             38\n",
       "NehaDivekar               37"
      ]
     },
     "execution_count": 27,
     "metadata": {},
     "output_type": "execute_result"
    }
   ],
   "source": [
    "# Top 10 users with most positive sentiment tweets\n",
    "pos_senti = df.loc[df.Sentiment == 'positive', ['Username', 'Sentiment']]\n",
    "pos_senti.rename(columns = {'Sentiment': 'Tweet_Count'}, inplace=True)\n",
    "pos_senti.groupby('Username').count().sort_values(by= 'Tweet_Count', ascending=False).head(10)"
   ]
  },
  {
   "cell_type": "code",
   "execution_count": 41,
   "metadata": {},
   "outputs": [
    {
     "data": {
      "image/png": "[encoded data removed]",
      "text/plain": [
       "<Figure size 1440x720 with 1 Axes>"
      ]
     },
     "metadata": {
      "needs_background": "light"
     },
     "output_type": "display_data"
    }
   ],
   "source": [
    "# Sentimnet vs Likes\n",
    "# df.loc[df.retweet_count.sort_values(ascending=False).head(10).index.values, ['text','retweet_count']]\n",
    "plt.figure(figsize = (20,10));\n",
    "plt.title('COMPOUND SCORE vs LIKES')\n",
    "sns.scatterplot(y = df.Likes, x = df.Compound_Score, color = 'C2');"
   ]
  },
  {
   "cell_type": "code",
   "execution_count": 29,
   "metadata": {},
   "outputs": [
    {
     "data": {
      "text/plain": [
       "Influencers\n",
       "Original         9907\n",
       "@IndiaToday      2681\n",
       "@TimesNow        2541\n",
       "@ShivAroor       2408\n",
       "@republic        2249\n",
       "@ndtv            1441\n",
       "@rahulkanwal      976\n",
       "@GuideforAll      967\n",
       "@abpnewstv        706\n",
       "@Babu_Bhaiyaa     586\n",
       "Name: SlNo, dtype: int64"
      ]
     },
     "execution_count": 29,
     "metadata": {},
     "output_type": "execute_result"
    }
   ],
   "source": [
    "# Top 10 user account who has influenced most people for tweet\n",
    "df.groupby('Influencers').SlNo.count().sort_values(ascending=False).head(10)"
   ]
  },
  {
   "cell_type": "code",
   "execution_count": 30,
   "metadata": {},
   "outputs": [
    {
     "data": {
      "text/plain": [
       "Issue\n",
       "#RepublicExitPoll      9704\n",
       "#IndiaTodayAxisPoll    9699\n",
       "#AajTakAxisExitPoll    5449\n",
       "#TimesNowExitPoll      4698\n",
       "#PollOfPolls           2510\n",
       "#ABPExitPoll2019       1925\n",
       "Name: SlNo, dtype: int64"
      ]
     },
     "execution_count": 30,
     "metadata": {},
     "output_type": "execute_result"
    }
   ],
   "source": [
    "# Top toipcs for tweets\n",
    "df.groupby('Issue').SlNo.count().sort_values(ascending=False)"
   ]
  },
  {
   "cell_type": "code",
   "execution_count": 31,
   "metadata": {},
   "outputs": [
    {
     "data": {
      "text/plain": [
       "Sentiment\n",
       "neutral     103528\n",
       "positive     67145\n",
       "negative     30035\n",
       "Name: Likes, dtype: int64"
      ]
     },
     "execution_count": 31,
     "metadata": {},
     "output_type": "execute_result"
    }
   ],
   "source": [
    "# Likes vs sentiments \n",
    "df.groupby('Sentiment').Likes.sum().sort_values(ascending = False)"
   ]
  },
  {
   "cell_type": "code",
   "execution_count": 32,
   "metadata": {},
   "outputs": [
    {
     "data": {
      "text/plain": [
       "Hour\n",
       "15    5005\n",
       "13    4634\n",
       "16    4394\n",
       "14    3971\n",
       "17    3305\n",
       "12    2235\n",
       "18    1731\n",
       "11    1162\n",
       "19     940\n",
       "10     797\n",
       "7      641\n",
       "5      635\n",
       "3      513\n",
       "8      490\n",
       "6      484\n",
       "4      483\n",
       "9      479\n",
       "2      417\n",
       "20     384\n",
       "23     331\n",
       "1      298\n",
       "0      240\n",
       "21     209\n",
       "22     207\n",
       "Name: SlNo, dtype: int64"
      ]
     },
     "execution_count": 32,
     "metadata": {},
     "output_type": "execute_result"
    }
   ],
   "source": [
    "# Tweets during the day\n",
    "df.groupby('Hour').SlNo.count().sort_values(ascending = False)"
   ]
  },
  {
   "cell_type": "code",
   "execution_count": 33,
   "metadata": {},
   "outputs": [
    {
     "data": {
      "text/plain": [
       "Weekday\n",
       "Sunday       27657\n",
       "Monday        5389\n",
       "Saturday       797\n",
       "Thursday        60\n",
       "Tuesday         51\n",
       "Wednesday       22\n",
       "Friday           9\n",
       "Name: SlNo, dtype: int64"
      ]
     },
     "execution_count": 33,
     "metadata": {},
     "output_type": "execute_result"
    }
   ],
   "source": [
    "# Tweets during the weekdays\n",
    "df.groupby('Weekday').SlNo.count().sort_values(ascending = False)"
   ]
  },
  {
   "cell_type": "markdown",
   "metadata": {},
   "source": [
    "### `SAVING PROCESSED DATA TO DISK`"
   ]
  },
  {
   "cell_type": "code",
   "execution_count": 34,
   "metadata": {},
   "outputs": [],
   "source": [
    "# Saving cleaned tweets data \n",
    "df.to_excel('Tweet_Data.xlsx', sheet_name='Tweet_Data',index=False)"
   ]
  },
  {
   "cell_type": "code",
   "execution_count": 35,
   "metadata": {},
   "outputs": [],
   "source": [
    "# Saving Hashtag data\n",
    "df_ht.to_excel('Hashtag.xlsx', sheet_name='Hashtag_Data',index=False)"
   ]
  },
  {
   "cell_type": "code",
   "execution_count": 36,
   "metadata": {},
   "outputs": [],
   "source": [
    "# Saving User Mention data\n",
    "df_um.to_excel('User_Mention.xlsx', sheet_name='UserMention_Data',index=False)"
   ]
  }
 ],
 "metadata": {
  "kernelspec": {
   "display_name": "Python 3",
   "language": "python",
   "name": "python3"
  },
  "language_info": {
   "codemirror_mode": {
    "name": "ipython",
    "version": 3
   },
   "file_extension": ".py",
   "mimetype": "text/x-python",
   "name": "python",
   "nbconvert_exporter": "python",
   "pygments_lexer": "ipython3",
   "version": "3.7.1"
  }
 },
 "nbformat": 4,
 "nbformat_minor": 2
}
